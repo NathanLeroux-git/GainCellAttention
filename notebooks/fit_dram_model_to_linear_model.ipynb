{
 "cells": [
  {
   "cell_type": "code",
   "execution_count": 1,
   "metadata": {},
   "outputs": [],
   "source": [
    "import torch\n",
    "import torch.nn as nn\n",
    "import os\n",
    "import sys\n",
    "dir_name = os.getcwd()\n",
    "parent_dir_name = os.path.dirname(dir_name)\n",
    "sys.path.insert(0, parent_dir_name)\n",
    "from modules.model_gpt import GPT, GPTConfig\n",
    "import matplotlib.pyplot as plt\n",
    "import numpy as np\n",
    "from IPython.display import clear_output"
   ]
  },
  {
   "cell_type": "markdown",
   "metadata": {},
   "source": [
    "Model import"
   ]
  },
  {
   "cell_type": "code",
   "execution_count": null,
   "metadata": {},
   "outputs": [],
   "source": [
    "device = 'cuda'\n",
    "lr=1e-3\n",
    "init_from = \"gpt2-LinearDRAM\"\n",
    "model_ld = torch.load(f'/Users/leroux/sEMG/saved_models/{init_from}.pt')['model']\n",
    "print(f\"Initializing from OpenAI GPT-2 weights: {init_from}\")\n",
    "config_args = dict(attention=\"SlidingWindowAttention\",\n",
    "                   batch_size=1,\n",
    "                   n_layer=12,\n",
    "                   n_head=12,\n",
    "                   n_embd=768,\n",
    "                   dropout=0.,\n",
    "                   vocab_size=50257,\n",
    "                   block_size=1024,\n",
    "                   bias=True,\n",
    "                   )\n",
    "config = GPTConfig(**config_args)\n",
    "model_linear = GPT(config)\n",
    "model_linear.load_state_dict(model_ld, strict=False)\n",
    "config_args.update({\"attention\": \"DRAMAttention\"})\n",
    "config = GPTConfig(**config_args)\n",
    "model = GPT(config)\n",
    "model.load_state_dict(model_ld, strict=False)\n",
    "model_sd = model.state_dict()\n",
    "pass"
   ]
  },
  {
   "cell_type": "code",
   "execution_count": null,
   "metadata": {},
   "outputs": [],
   "source": [
    "\n",
    "def fix_scale_and_shift_a_and_b(model):\n",
    "    for layer in model.transformer.h:\n",
    "        layer.attn.q_scaler.iter_num += 1000\n",
    "        layer.attn.k_scaler.iter_num += 1000\n",
    "        layer.attn.v_scaler.iter_num += 1000\n",
    "        layer.attn.att_score_scaler.iter_num += 1000\n",
    "        layer.attn.output_scaler.iter_num += 1000\n",
    "    return model\n",
    "model_linear = fix_scale_and_shift_a_and_b(model_linear)"
   ]
  },
  {
   "cell_type": "markdown",
   "metadata": {},
   "source": [
    "Synthetic data"
   ]
  },
  {
   "cell_type": "code",
   "execution_count": null,
   "metadata": {},
   "outputs": [],
   "source": [
    "n_samples = 1\n",
    "input = (torch.rand(n_samples, 1024) * 50257).long().to(device)\n",
    "model_linear = model_linear.to(device)\n",
    "model = model.to(device)\n",
    "with torch.no_grad():\n",
    "    out_linear = model_linear(input, input)\n",
    "    out = model(input, input)"
   ]
  },
  {
   "cell_type": "markdown",
   "metadata": {},
   "source": [
    "Histogram compare"
   ]
  },
  {
   "cell_type": "code",
   "execution_count": null,
   "metadata": {},
   "outputs": [],
   "source": [
    "# Plot histograms\n",
    "plt.hist(out_linear[0][0][0].detach().cpu().numpy(), bins=100, alpha=0.5, label='Linear out')\n",
    "plt.hist(out[0][0][0].detach().cpu().numpy(), bins=100, alpha=0.5, label='Nonlinear out')\n",
    "plt.legend(loc='upper right')\n",
    "plt.title('Distribution before training')\n",
    "plt.xlabel('Value')\n",
    "plt.ylabel('Frequency')\n",
    "plt.show()"
   ]
  },
  {
   "cell_type": "markdown",
   "metadata": {},
   "source": [
    "Train model to fit linear model"
   ]
  },
  {
   "cell_type": "code",
   "execution_count": null,
   "metadata": {},
   "outputs": [],
   "source": [
    "# for name, param in model.named_parameters():\n",
    "#     if name.endswith('_scaler.a_param') or name.endswith('_scaler.b_param'):\n",
    "#         pass\n",
    "#     else:\n",
    "#         param.requires_grad = False\n",
    "# # Check that only the scaling factors are trained\n",
    "# [print(name, param.requires_grad) for name, param in model.named_parameters()]\n",
    "# for"
   ]
  },
  {
   "cell_type": "code",
   "execution_count": null,
   "metadata": {},
   "outputs": [],
   "source": [
    "class dataset_generator(torch.utils.data.Dataset):\n",
    "    def __init__(self, batch_size, device):\n",
    "        super().__init__()\n",
    "        self.n_samples = batch_size*1000\n",
    "        self.input = (torch.rand(self.n_samples, 1024) * 50257).long()\n",
    "        self.device = device\n",
    "        \n",
    "    def __getitem__(self, idx):\n",
    "        return self.input[idx].to(self.device)\n",
    "    \n",
    "    def __len__(self):\n",
    "        return self.n_samples\n",
    "    \n",
    "batch_size = 1\n",
    "dataset = torch.utils.data.DataLoader(dataset_generator(batch_size, device),\n",
    "                                batch_size=batch_size,\n",
    "                                shuffle=True,\n",
    "                                drop_last=True,\n",
    "                                )"
   ]
  },
  {
   "cell_type": "code",
   "execution_count": null,
   "metadata": {},
   "outputs": [],
   "source": [
    "def make_zero_grad_parameters(model):\n",
    "    for name, param in model.named_parameters():\n",
    "        if name.endswith('_scaler.a_param') or name.endswith('_scaler.b_param'):\n",
    "            pass\n",
    "        else:\n",
    "            param.grad *= 0\n",
    "    return model"
   ]
  },
  {
   "cell_type": "code",
   "execution_count": null,
   "metadata": {},
   "outputs": [],
   "source": [
    "lr = 1e-3\n",
    "optim = torch.optim.AdamW(model.parameters(), lr=lr)\n",
    "losses = []\n",
    "a_param = []\n",
    "b_param = []\n",
    "# with torch.no_grad():\n",
    "for i, x in enumerate(dataset):\n",
    "    optim.zero_grad()\n",
    "    target = model_linear(x, x)\n",
    "    pred = model(x, x)\n",
    "    target, pred = target[0], pred[0]\n",
    "    loss = nn.MSELoss()(target, pred)\n",
    "    losses += [loss.item()]\n",
    "    a_param += [model.transformer.h[0].attn.output_scaler.a.item()]\n",
    "    b_param += [model.transformer.h[0].attn.output_scaler.b.item()]\n",
    "    loss.backward()\n",
    "    model = make_zero_grad_parameters(model)\n",
    "    optim.step()\n",
    "    print(f\"iter: {i} ({i/len(dataset)*100:.2f}%)\\tLoss: {loss.item():.4f}\")\n",
    "    if i % 10 == 0:\n",
    "        with torch.no_grad():\n",
    "            # Initialize figure and axes\n",
    "            fig, axes = plt.subplots(2, 2, figsize=(5, 5))\n",
    "            # Clear previous plot and redraw the entire plot\n",
    "            clear_output(wait=True)\n",
    "            [ax.clear() for ax in axes[0]]\n",
    "            [ax.clear() for ax in axes[1]]\n",
    "            # Plot the new data\n",
    "            time = torch.arange(0, i+1)\n",
    "            axes[0,0].plot(time, np.array(losses), '-')\n",
    "            axes[0,0].set_title(f\"iter: {i} ({i/len(dataset)*100:.2f}%), Loss: {loss.item():.4f}\")\n",
    "            axes[0,0].set_xlabel('Iter')\n",
    "            axes[0,0].set_ylabel('Loss')\n",
    "            \n",
    "            axes[0,1].plot(time, np.array(a_param))\n",
    "            axes[0,1].set_xlabel('a_param')\n",
    "            axes[0,1].set_yscale('log')\n",
    "            \n",
    "            # Plot histograms\n",
    "            axes[1,0].hist(target[0][0].detach().cpu().numpy(), bins=100, alpha=0.5, label='Linear out')\n",
    "            axes[1,0].hist(pred[0][0].detach().cpu().numpy(), bins=100, alpha=0.5, label='Nonlinear out')\n",
    "            # axes[1,1].plot(time, time)\n",
    "            axes[1,0].legend(loc='upper right')\n",
    "            axes[1,0].set_title('Distribution after training')\n",
    "            axes[1,0].set_xlabel('Value')\n",
    "            axes[1,0].set_ylabel('Frequency')\n",
    "            \n",
    "            axes[1,1].plot(time, np.array(b_param))\n",
    "            axes[1,1].set_xlabel('b_param')\n",
    "            axes[1,1].set_yscale('log')\n",
    "            \n",
    "            plt.tight_layout()\n",
    "            plt.show()\n",
    "            sys.stdout.flush()\n",
    "            plt.pause(0.1)  # Pause to update the plot\n"
   ]
  },
  {
   "cell_type": "code",
   "execution_count": null,
   "metadata": {},
   "outputs": [],
   "source": [
    "# Plot histograms\n",
    "plt.hist(target[0][0].detach().cpu().numpy(), bins=100, alpha=0.5, label='Linear out')\n",
    "plt.hist(pred[0][0].detach().cpu().numpy(), bins=100, alpha=0.5, label='NL out')\n",
    "plt.legend(loc='upper right')\n",
    "plt.title('Distribution after training')\n",
    "plt.xlabel('Value')\n",
    "plt.ylabel('Frequency')\n",
    "plt.show()"
   ]
  }
 ],
 "metadata": {
  "kernelspec": {
   "display_name": "DNS_env",
   "language": "python",
   "name": "python3"
  },
  "language_info": {
   "codemirror_mode": {
    "name": "ipython",
    "version": 3
   },
   "file_extension": ".py",
   "mimetype": "text/x-python",
   "name": "python",
   "nbconvert_exporter": "python",
   "pygments_lexer": "ipython3",
   "version": "3.11.7"
  }
 },
 "nbformat": 4,
 "nbformat_minor": 2
}
